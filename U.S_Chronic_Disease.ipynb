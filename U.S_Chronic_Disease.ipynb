{
 "cells": [
  {
   "cell_type": "markdown",
   "id": "a79d2795",
   "metadata": {},
   "source": [
    "### Step 1: Load Data\n",
    "We start by loading the CDC Chronic Disease Indicators dataset.  \n",
    "This raw dataset contains disease prevalence across states, years, and risk factors.  \n"
   ]
  },
  {
   "cell_type": "code",
   "execution_count": 6,
   "id": "9a6db06f",
   "metadata": {},
   "outputs": [],
   "source": [
    "# 0. Setup\n",
    "import os\n",
    "import pandas as pd\n",
    "import numpy as np\n",
    "import matplotlib.pyplot as plt\n",
    "import seaborn as sns\n",
    "import plotly.express as px\n",
    "\n",
    "from sklearn.model_selection import train_test_split\n",
    "from sklearn.ensemble import RandomForestClassifier\n",
    "from sklearn.compose import ColumnTransformer\n",
    "from sklearn.pipeline import Pipeline\n",
    "from sklearn.preprocessing import OneHotEncoder\n",
    "from sklearn.impute import SimpleImputer\n",
    "from sklearn.metrics import accuracy_score, roc_auc_score, classification_report, confusion_matrix\n",
    "from joblib import dump\n",
    "\n",
    "os.makedirs(\"outputs\", exist_ok=True)\n",
    "sns.set(style=\"whitegrid\")"
   ]
  },
  {
   "cell_type": "code",
   "execution_count": 7,
   "id": "51bda354",
   "metadata": {},
   "outputs": [],
   "source": [
    "df=pd.read_csv(r\"E:\\\\New_folder\\\\ML_Projects\\\\U.S._Chronic_Disease_Indicators.csv\")"
   ]
  },
  {
   "cell_type": "code",
   "execution_count": 8,
   "id": "88bff754",
   "metadata": {},
   "outputs": [
    {
     "name": "stdout",
     "output_type": "stream",
     "text": [
      "Shape: (309215, 34)\n",
      "Sample Questions (indicators) count: 109\n",
      "Question\n",
      "Binge drinking frequency among adults who binge drink                                                     5720\n",
      "Binge drinking intensity among adults who binge drink                                                     5680\n",
      "Asthma mortality among all people, underlying cause                                                       5616\n",
      "Chronic liver disease mortality among all people, underlying cause                                        5616\n",
      "Diabetic ketoacidosis mortality among all people, underlying or contributing cause                        5616\n",
      "Cerebrovascular disease (stroke) mortality among all people, underlying cause                             5616\n",
      "Coronary heart disease mortality among all people, underlying cause                                       5616\n",
      "Diseases of the heart mortality among all people, underlying cause                                        5616\n",
      "Diabetes mortality among all people, underlying or contributing cause                                     5616\n",
      "Chronic obstructive pulmonary disease mortality among adults aged 45 years and older, underlying cause    5304\n",
      "Name: count, dtype: int64\n"
     ]
    }
   ],
   "source": [
    "print(\"Shape:\", df.shape)\n",
    "print(\"Sample Questions (indicators) count:\", df[\"Question\"].nunique())\n",
    "print(df[\"Question\"].value_counts().head(10))"
   ]
  },
  {
   "cell_type": "markdown",
   "id": "2f30c0e7",
   "metadata": {},
   "source": [
    "### Step 2: Data Cleaning\n",
    "- Drop rows where `DataValue` is missing, since this is our outcome variable.  \n",
    "- Drop columns with >80% missing values.  \n",
    "- Convert `DataValue` to numeric.  \n",
    "- Fill remaining missing values with median (for numbers) or `\"missing\"` (for categories).  \n",
    "\n",
    "This ensures our dataset is consistent and usable for modeling.  \n"
   ]
  },
  {
   "cell_type": "code",
   "execution_count": 9,
   "id": "b767ad95",
   "metadata": {},
   "outputs": [
    {
     "name": "stderr",
     "output_type": "stream",
     "text": [
      "c:\\Users\\hp\\AppData\\Local\\Programs\\Python\\Python313\\Lib\\site-packages\\numpy\\lib\\_nanfunctions_impl.py:1214: RuntimeWarning: Mean of empty slice\n",
      "  return np.nanmean(a, axis, out=out, keepdims=keepdims)\n",
      "c:\\Users\\hp\\AppData\\Local\\Programs\\Python\\Python313\\Lib\\site-packages\\numpy\\lib\\_nanfunctions_impl.py:1214: RuntimeWarning: Mean of empty slice\n",
      "  return np.nanmean(a, axis, out=out, keepdims=keepdims)\n",
      "c:\\Users\\hp\\AppData\\Local\\Programs\\Python\\Python313\\Lib\\site-packages\\numpy\\lib\\_nanfunctions_impl.py:1214: RuntimeWarning: Mean of empty slice\n",
      "  return np.nanmean(a, axis, out=out, keepdims=keepdims)\n",
      "c:\\Users\\hp\\AppData\\Local\\Programs\\Python\\Python313\\Lib\\site-packages\\numpy\\lib\\_nanfunctions_impl.py:1214: RuntimeWarning: Mean of empty slice\n",
      "  return np.nanmean(a, axis, out=out, keepdims=keepdims)\n",
      "c:\\Users\\hp\\AppData\\Local\\Programs\\Python\\Python313\\Lib\\site-packages\\numpy\\lib\\_nanfunctions_impl.py:1214: RuntimeWarning: Mean of empty slice\n",
      "  return np.nanmean(a, axis, out=out, keepdims=keepdims)\n",
      "c:\\Users\\hp\\AppData\\Local\\Programs\\Python\\Python313\\Lib\\site-packages\\numpy\\lib\\_nanfunctions_impl.py:1214: RuntimeWarning: Mean of empty slice\n",
      "  return np.nanmean(a, axis, out=out, keepdims=keepdims)\n",
      "c:\\Users\\hp\\AppData\\Local\\Programs\\Python\\Python313\\Lib\\site-packages\\numpy\\lib\\_nanfunctions_impl.py:1214: RuntimeWarning: Mean of empty slice\n",
      "  return np.nanmean(a, axis, out=out, keepdims=keepdims)\n",
      "c:\\Users\\hp\\AppData\\Local\\Programs\\Python\\Python313\\Lib\\site-packages\\numpy\\lib\\_nanfunctions_impl.py:1214: RuntimeWarning: Mean of empty slice\n",
      "  return np.nanmean(a, axis, out=out, keepdims=keepdims)\n",
      "c:\\Users\\hp\\AppData\\Local\\Programs\\Python\\Python313\\Lib\\site-packages\\numpy\\lib\\_nanfunctions_impl.py:1214: RuntimeWarning: Mean of empty slice\n",
      "  return np.nanmean(a, axis, out=out, keepdims=keepdims)\n",
      "c:\\Users\\hp\\AppData\\Local\\Programs\\Python\\Python313\\Lib\\site-packages\\numpy\\lib\\_nanfunctions_impl.py:1214: RuntimeWarning: Mean of empty slice\n",
      "  return np.nanmean(a, axis, out=out, keepdims=keepdims)\n"
     ]
    },
    {
     "name": "stdout",
     "output_type": "stream",
     "text": [
      "After cleaning: (209196, 35)\n"
     ]
    }
   ],
   "source": [
    "# 2. Clean data\n",
    "# Keep rows with DataValue (we need the value to model/visualize)\n",
    "df = df.dropna(subset=[\"DataValue\"]).copy()\n",
    "\n",
    "# numeric version of the target\n",
    "df[\"data_value_num\"] = pd.to_numeric(df[\"DataValue\"], errors=\"coerce\")\n",
    "\n",
    "# Fill numeric NaNs (other numeric columns) with median\n",
    "for c in df.select_dtypes(include=[np.number]).columns:\n",
    "    df[c] = df[c].fillna(df[c].median())\n",
    "\n",
    "# Fill categorical NaNs with \"missing\"\n",
    "for c in df.select_dtypes(exclude=[np.number]).columns:\n",
    "    df[c] = df[c].fillna(\"missing\")\n",
    "\n",
    "print(\"After cleaning:\", df.shape)\n"
   ]
  },
  {
   "cell_type": "markdown",
   "id": "eeb1914d",
   "metadata": {},
   "source": [
    "### Step 3: Select COPD and Obesity\n",
    "We focus on:\n",
    "- **Chronic Obstructive Pulmonary Disease (COPD)**  \n",
    "- **Obesity among adults**  \n",
    "\n",
    "These represent two different but impactful health conditions: one respiratory, one lifestyle-related.  \n"
   ]
  },
  {
   "cell_type": "code",
   "execution_count": 10,
   "id": "5f45f9b3",
   "metadata": {},
   "outputs": [
    {
     "name": "stdout",
     "output_type": "stream",
     "text": [
      "Question\n",
      "Obesity among adults                                  3973\n",
      "Chronic obstructive pulmonary disease among adults    3141\n",
      "Name: count, dtype: int64\n"
     ]
    }
   ],
   "source": [
    "# 3. Choose indicators\n",
    "copd_name  = \"Chronic obstructive pulmonary disease among adults\"\n",
    "obesity_name = \"Obesity among adults\"\n",
    "\n",
    "df_two = df[df[\"Question\"].isin([copd_name, obesity_name])].copy()\n",
    "print(df_two[\"Question\"].value_counts())\n"
   ]
  },
  {
   "cell_type": "markdown",
   "id": "86fea8ac",
   "metadata": {},
   "source": [
    "### Step 4: Create Binary Target\n",
    "We define \"high prevalence\" as being **above the median** for each disease.  \n",
    "This allows us to frame the problem as a **classification task**.  \n"
   ]
  },
  {
   "cell_type": "code",
   "execution_count": 11,
   "id": "5368183d",
   "metadata": {},
   "outputs": [
    {
     "data": {
      "image/png": "[encoded data removed]",
      "text/plain": [
       "<Figure size 1000x500 with 1 Axes>"
      ]
     },
     "metadata": {},
     "output_type": "display_data"
    }
   ],
   "source": [
    "# 4. Trend analysis: average prevalence by year\n",
    "trend = df_two.groupby([\"YearStart\", \"Question\"])[\"data_value_num\"].mean().reset_index()\n",
    "\n",
    "plt.figure(figsize=(10,5))\n",
    "for q in [copd_name, obesity_name]:\n",
    "    tmp = trend[trend[\"Question\"] == q]\n",
    "    plt.plot(tmp[\"YearStart\"], tmp[\"data_value_num\"], marker=\"o\", label=q)\n",
    "plt.title(\"Trend: COPD vs Obesity (US average)\")\n",
    "plt.xlabel(\"Year\")\n",
    "plt.ylabel(\"Average prevalence (%)\")\n",
    "plt.legend()\n",
    "plt.tight_layout()\n",
    "plt.savefig(\"outputs/trend_copd_obesity.png\")\n",
    "plt.show()\n"
   ]
  },
  {
   "cell_type": "code",
   "execution_count": 12,
   "id": "3314a9a4",
   "metadata": {},
   "outputs": [
    {
     "data": {
      "image/png": "[encoded data removed]",
      "text/plain": [
       "<Figure size 1000x500 with 1 Axes>"
      ]
     },
     "metadata": {},
     "output_type": "display_data"
    }
   ],
   "source": [
    "# Trend analysis: average prevalence by year for both diseases\n",
    "trend = df_two.groupby([\"YearStart\", \"Question\"])[\"data_value_num\"].mean().reset_index()\n",
    "\n",
    "plt.figure(figsize=(10,5))\n",
    "for q in [copd_name, obesity_name]:\n",
    "    tmp = trend[trend[\"Question\"] == q]\n",
    "    plt.plot(tmp[\"YearStart\"], tmp[\"data_value_num\"], marker=\"o\", label=q)\n",
    "\n",
    "plt.title(\"Trend: COPD vs Obesity (US Average)\")\n",
    "plt.xlabel(\"Year\")\n",
    "plt.ylabel(\"Average Prevalence (%)\")\n",
    "plt.legend()\n",
    "plt.tight_layout()\n",
    "plt.savefig(\"outputs/trend_copd_obesity.png\")\n",
    "plt.show()\n"
   ]
  },
  {
   "cell_type": "markdown",
   "id": "5eb27268",
   "metadata": {},
   "source": [
    "### Step 5: Choropleth Visualization\n",
    "Geographic maps help public health stakeholders quickly see which states  \n",
    "are most affected, guiding **resource allocation and policy planning**.  \n"
   ]
  },
  {
   "cell_type": "code",
   "execution_count": 23,
   "id": "e5fd4a32",
   "metadata": {},
   "outputs": [
    {
     "data": {
      "application/vnd.plotly.v1+json": {
       "config": {
        "plotlyServerURL": "https://plot.ly"
       },
       "data": [
        {
         "coloraxis": "coloraxis",
         "geo": "geo",
         "hovertemplate": "<b>%{hovertext}</b><br><br>LocationAbbr=%{location}<br>Obesity=%{z}<extra></extra>",
         "hovertext": [
          "Alaska",
          "Alabama",
          "Arkansas",
          "Arizona",
          "California",
          "Colorado",
          "Connecticut",
          "District of Columbia",
          "Delaware",
          "Florida",
          "Georgia",
          "Guam",
          "Hawaii",
          "Iowa",
          "Idaho",
          "Illinois",
          "Indiana",
          "Kansas",
          "Kentucky",
          "Louisiana",
          "Massachusetts",
          "Maryland",
          "Maine",
          "Michigan",
          "Minnesota",
          "Missouri",
          "Mississippi",
          "Montana",
          "North Carolina",
          "North Dakota",
          "Nebraska",
          "New Hampshire",
          "New Jersey",
          "New Mexico",
          "Nevada",
          "New York",
          "Ohio",
          "Oklahoma",
          "Oregon",
          "Pennsylvania",
          "Puerto Rico",
          "Rhode Island",
          "South Carolina",
          "South Dakota",
          "Tennessee",
          "Texas",
          "United States",
          "Utah",
          "Virginia",
          "Virgin Islands",
          "Vermont",
          "Washington",
          "Wisconsin",
          "West Virginia",
          "Wyoming"
         ],
         "locationmode": "USA-states",
         "locations": [
          "AK",
          "AL",
          "AR",
          "AZ",
          "CA",
          "CO",
          "CT",
          "DC",
          "DE",
          "FL",
          "GA",
          "GU",
          "HI",
          "IA",
          "ID",
          "IL",
          "IN",
          "KS",
          "KY",
          "LA",
          "MA",
          "MD",
          "ME",
          "MI",
          "MN",
          "MO",
          "MS",
          "MT",
          "NC",
          "ND",
          "NE",
          "NH",
          "NJ",
          "NM",
          "NV",
          "NY",
          "OH",
          "OK",
          "OR",
          "PA",
          "PR",
          "RI",
          "SC",
          "SD",
          "TN",
          "TX",
          "US",
          "UT",
          "VA",
          "VI",
          "VT",
          "WA",
          "WI",
          "WV",
          "WY"
         ],
         "name": "",
         "type": "choropleth",
         "z": {
          "bdata": "HdRBHdTBP0Aor6G8hjJDQL2G8hrK60JAjLRjBcKIQkBoq8FzBAo9QG7btm3bNjlAtGMFwkg7PkDNzMzMzHw5QC3Ygi3Y4kJApB0rEEaaQEAFwkg7VqBBQK1AGGnHSkBABU7gBE5gPUBkY2NjY2NDQIqKioqKykFAioqKiooKQkDBwMDAwABDQML1KFyPwkFAAAAAAACAQ0DwuSVO/Z5EQJg49XtuiTtAj/3Yj/1YP0C4xKnfc4tCQOMrvuIrPkBAHdRBHdSBQUDoljj1e+5CQM3MzMzMTERAVVRUVFSUQEB5DeU1lBdCQMWp33NLHEJAiVO/55a4QUB9xVd8xZc+QJ5b4tTvuT1AsrGxsbHxQEDtWIEw0s5AQH3FV3zF1z5A/tiP/dgPQkAFwkg7VmBFQEN5DeU1lD1AOY7jOI4jQECZmZmZmVlBQNuxAmGknT9Anfo9t8TpQUAbymsor+FDQBsbGxsbW0NAu7u7u7s7QUBzBIq2GrxAQEhISEhIyEFAPgrXo3DNQEDRC73QC70+QDHSjhUIozxAhixkIQvZQEDBCZzACVxDQIqKioqKikRA3t3d3d1dQkA=",
          "dtype": "f8"
         }
        }
       ],
       "layout": {
        "coloraxis": {
         "colorbar": {
          "title": {
           "text": "Obesity"
          }
         },
         "colorscale": [
          [
           0,
           "rgb(255,245,240)"
          ],
          [
           0.125,
           "rgb(254,224,210)"
          ],
          [
           0.25,
           "rgb(252,187,161)"
          ],
          [
           0.375,
           "rgb(252,146,114)"
          ],
          [
           0.5,
           "rgb(251,106,74)"
          ],
          [
           0.625,
           "rgb(239,59,44)"
          ],
          [
           0.75,
           "rgb(203,24,29)"
          ],
          [
           0.875,
           "rgb(165,15,21)"
          ],
          [
           1,
           "rgb(103,0,13)"
          ]
         ]
        },
        "geo": {
         "center": {},
         "domain": {
          "x": [
           0,
           1
          ],
          "y": [
           0,
           1
          ]
         },
         "scope": "usa"
        },
        "legend": {
         "tracegroupgap": 0
        },
        "template": {
         "data": {
          "bar": [
           {
            "error_x": {
             "color": "#2a3f5f"
            },
            "error_y": {
             "color": "#2a3f5f"
            },
            "marker": {
             "line": {
              "color": "#E5ECF6",
              "width": 0.5
             },
             "pattern": {
              "fillmode": "overlay",
              "size": 10,
              "solidity": 0.2
             }
            },
            "type": "bar"
           }
          ],
          "barpolar": [
           {
            "marker": {
             "line": {
              "color": "#E5ECF6",
              "width": 0.5
             },
             "pattern": {
              "fillmode": "overlay",
              "size": 10,
              "solidity": 0.2
             }
            },
            "type": "barpolar"
           }
          ],
          "carpet": [
           {
            "aaxis": {
             "endlinecolor": "#2a3f5f",
             "gridcolor": "white",
             "linecolor": "white",
             "minorgridcolor": "white",
             "startlinecolor": "#2a3f5f"
            },
            "baxis": {
             "endlinecolor": "#2a3f5f",
             "gridcolor": "white",
             "linecolor": "white",
             "minorgridcolor": "white",
             "startlinecolor": "#2a3f5f"
            },
            "type": "carpet"
           }
          ],
          "choropleth": [
           {
            "colorbar": {
             "outlinewidth": 0,
             "ticks": ""
            },
            "type": "choropleth"
           }
          ],
          "contour": [
           {
            "colorbar": {
             "outlinewidth": 0,
             "ticks": ""
            },
            "colorscale": [
             [
              0,
              "#0d0887"
             ],
             [
              0.1111111111111111,
              "#46039f"
             ],
             [
              0.2222222222222222,
              "#7201a8"
             ],
             [
              0.3333333333333333,
              "#9c179e"
             ],
             [
              0.4444444444444444,
              "#bd3786"
             ],
             [
              0.5555555555555556,
              "#d8576b"
             ],
             [
              0.6666666666666666,
              "#ed7953"
             ],
             [
              0.7777777777777778,
              "#fb9f3a"
             ],
             [
              0.8888888888888888,
              "#fdca26"
             ],
             [
              1,
              "#f0f921"
             ]
            ],
            "type": "contour"
           }
          ],
          "contourcarpet": [
           {
            "colorbar": {
             "outlinewidth": 0,
             "ticks": ""
            },
            "type": "contourcarpet"
           }
          ],
          "heatmap": [
           {
            "colorbar": {
             "outlinewidth": 0,
             "ticks": ""
            },
            "colorscale": [
             [
              0,
              "#0d0887"
             ],
             [
              0.1111111111111111,
              "#46039f"
             ],
             [
              0.2222222222222222,
              "#7201a8"
             ],
             [
              0.3333333333333333,
              "#9c179e"
             ],
             [
              0.4444444444444444,
              "#bd3786"
             ],
             [
              0.5555555555555556,
              "#d8576b"
             ],
             [
              0.6666666666666666,
              "#ed7953"
             ],
             [
              0.7777777777777778,
              "#fb9f3a"
             ],
             [
              0.8888888888888888,
              "#fdca26"
             ],
             [
              1,
              "#f0f921"
             ]
            ],
            "type": "heatmap"
           }
          ],
          "histogram": [
           {
            "marker": {
             "pattern": {
              "fillmode": "overlay",
              "size": 10,
              "solidity": 0.2
             }
            },
            "type": "histogram"
           }
          ],
          "histogram2d": [
           {
            "colorbar": {
             "outlinewidth": 0,
             "ticks": ""
            },
            "colorscale": [
             [
              0,
              "#0d0887"
             ],
             [
              0.1111111111111111,
              "#46039f"
             ],
             [
              0.2222222222222222,
              "#7201a8"
             ],
             [
              0.3333333333333333,
              "#9c179e"
             ],
             [
              0.4444444444444444,
              "#bd3786"
             ],
             [
              0.5555555555555556,
              "#d8576b"
             ],
             [
              0.6666666666666666,
              "#ed7953"
             ],
             [
              0.7777777777777778,
              "#fb9f3a"
             ],
             [
              0.8888888888888888,
              "#fdca26"
             ],
             [
              1,
              "#f0f921"
             ]
            ],
            "type": "histogram2d"
           }
          ],
          "histogram2dcontour": [
           {
            "colorbar": {
             "outlinewidth": 0,
             "ticks": ""
            },
            "colorscale": [
             [
              0,
              "#0d0887"
             ],
             [
              0.1111111111111111,
              "#46039f"
             ],
             [
              0.2222222222222222,
              "#7201a8"
             ],
             [
              0.3333333333333333,
              "#9c179e"
             ],
             [
              0.4444444444444444,
              "#bd3786"
             ],
             [
              0.5555555555555556,
              "#d8576b"
             ],
             [
              0.6666666666666666,
              "#ed7953"
             ],
             [
              0.7777777777777778,
              "#fb9f3a"
             ],
             [
              0.8888888888888888,
              "#fdca26"
             ],
             [
              1,
              "#f0f921"
             ]
            ],
            "type": "histogram2dcontour"
           }
          ],
          "mesh3d": [
           {
            "colorbar": {
             "outlinewidth": 0,
             "ticks": ""
            },
            "type": "mesh3d"
           }
          ],
          "parcoords": [
           {
            "line": {
             "colorbar": {
              "outlinewidth": 0,
              "ticks": ""
             }
            },
            "type": "parcoords"
           }
          ],
          "pie": [
           {
            "automargin": true,
            "type": "pie"
           }
          ],
          "scatter": [
           {
            "fillpattern": {
             "fillmode": "overlay",
             "size": 10,
             "solidity": 0.2
            },
            "type": "scatter"
           }
          ],
          "scatter3d": [
           {
            "line": {
             "colorbar": {
              "outlinewidth": 0,
              "ticks": ""
             }
            },
            "marker": {
             "colorbar": {
              "outlinewidth": 0,
              "ticks": ""
             }
            },
            "type": "scatter3d"
           }
          ],
          "scattercarpet": [
           {
            "marker": {
             "colorbar": {
              "outlinewidth": 0,
              "ticks": ""
             }
            },
            "type": "scattercarpet"
           }
          ],
          "scattergeo": [
           {
            "marker": {
             "colorbar": {
              "outlinewidth": 0,
              "ticks": ""
             }
            },
            "type": "scattergeo"
           }
          ],
          "scattergl": [
           {
            "marker": {
             "colorbar": {
              "outlinewidth": 0,
              "ticks": ""
             }
            },
            "type": "scattergl"
           }
          ],
          "scattermap": [
           {
            "marker": {
             "colorbar": {
              "outlinewidth": 0,
              "ticks": ""
             }
            },
            "type": "scattermap"
           }
          ],
          "scattermapbox": [
           {
            "marker": {
             "colorbar": {
              "outlinewidth": 0,
              "ticks": ""
             }
            },
            "type": "scattermapbox"
           }
          ],
          "scatterpolar": [
           {
            "marker": {
             "colorbar": {
              "outlinewidth": 0,
              "ticks": ""
             }
            },
            "type": "scatterpolar"
           }
          ],
          "scatterpolargl": [
           {
            "marker": {
             "colorbar": {
              "outlinewidth": 0,
              "ticks": ""
             }
            },
            "type": "scatterpolargl"
           }
          ],
          "scatterternary": [
           {
            "marker": {
             "colorbar": {
              "outlinewidth": 0,
              "ticks": ""
             }
            },
            "type": "scatterternary"
           }
          ],
          "surface": [
           {
            "colorbar": {
             "outlinewidth": 0,
             "ticks": ""
            },
            "colorscale": [
             [
              0,
              "#0d0887"
             ],
             [
              0.1111111111111111,
              "#46039f"
             ],
             [
              0.2222222222222222,
              "#7201a8"
             ],
             [
              0.3333333333333333,
              "#9c179e"
             ],
             [
              0.4444444444444444,
              "#bd3786"
             ],
             [
              0.5555555555555556,
              "#d8576b"
             ],
             [
              0.6666666666666666,
              "#ed7953"
             ],
             [
              0.7777777777777778,
              "#fb9f3a"
             ],
             [
              0.8888888888888888,
              "#fdca26"
             ],
             [
              1,
              "#f0f921"
             ]
            ],
            "type": "surface"
           }
          ],
          "table": [
           {
            "cells": {
             "fill": {
              "color": "#EBF0F8"
             },
             "line": {
              "color": "white"
             }
            },
            "header": {
             "fill": {
              "color": "#C8D4E3"
             },
             "line": {
              "color": "white"
             }
            },
            "type": "table"
           }
          ]
         },
         "layout": {
          "annotationdefaults": {
           "arrowcolor": "#2a3f5f",
           "arrowhead": 0,
           "arrowwidth": 1
          },
          "autotypenumbers": "strict",
          "coloraxis": {
           "colorbar": {
            "outlinewidth": 0,
            "ticks": ""
           }
          },
          "colorscale": {
           "diverging": [
            [
             0,
             "#8e0152"
            ],
            [
             0.1,
             "#c51b7d"
            ],
            [
             0.2,
             "#de77ae"
            ],
            [
             0.3,
             "#f1b6da"
            ],
            [
             0.4,
             "#fde0ef"
            ],
            [
             0.5,
             "#f7f7f7"
            ],
            [
             0.6,
             "#e6f5d0"
            ],
            [
             0.7,
             "#b8e186"
            ],
            [
             0.8,
             "#7fbc41"
            ],
            [
             0.9,
             "#4d9221"
            ],
            [
             1,
             "#276419"
            ]
           ],
           "sequential": [
            [
             0,
             "#0d0887"
            ],
            [
             0.1111111111111111,
             "#46039f"
            ],
            [
             0.2222222222222222,
             "#7201a8"
            ],
            [
             0.3333333333333333,
             "#9c179e"
            ],
            [
             0.4444444444444444,
             "#bd3786"
            ],
            [
             0.5555555555555556,
             "#d8576b"
            ],
            [
             0.6666666666666666,
             "#ed7953"
            ],
            [
             0.7777777777777778,
             "#fb9f3a"
            ],
            [
             0.8888888888888888,
             "#fdca26"
            ],
            [
             1,
             "#f0f921"
            ]
           ],
           "sequentialminus": [
            [
             0,
             "#0d0887"
            ],
            [
             0.1111111111111111,
             "#46039f"
            ],
            [
             0.2222222222222222,
             "#7201a8"
            ],
            [
             0.3333333333333333,
             "#9c179e"
            ],
            [
             0.4444444444444444,
             "#bd3786"
            ],
            [
             0.5555555555555556,
             "#d8576b"
            ],
            [
             0.6666666666666666,
             "#ed7953"
            ],
            [
             0.7777777777777778,
             "#fb9f3a"
            ],
            [
             0.8888888888888888,
             "#fdca26"
            ],
            [
             1,
             "#f0f921"
            ]
           ]
          },
          "colorway": [
           "#636efa",
           "#EF553B",
           "#00cc96",
           "#ab63fa",
           "#FFA15A",
           "#19d3f3",
           "#FF6692",
           "#B6E880",
           "#FF97FF",
           "#FECB52"
          ],
          "font": {
           "color": "#2a3f5f"
          },
          "geo": {
           "bgcolor": "white",
           "lakecolor": "white",
           "landcolor": "#E5ECF6",
           "showlakes": true,
           "showland": true,
           "subunitcolor": "white"
          },
          "hoverlabel": {
           "align": "left"
          },
          "hovermode": "closest",
          "mapbox": {
           "style": "light"
          },
          "paper_bgcolor": "white",
          "plot_bgcolor": "#E5ECF6",
          "polar": {
           "angularaxis": {
            "gridcolor": "white",
            "linecolor": "white",
            "ticks": ""
           },
           "bgcolor": "#E5ECF6",
           "radialaxis": {
            "gridcolor": "white",
            "linecolor": "white",
            "ticks": ""
           }
          },
          "scene": {
           "xaxis": {
            "backgroundcolor": "#E5ECF6",
            "gridcolor": "white",
            "gridwidth": 2,
            "linecolor": "white",
            "showbackground": true,
            "ticks": "",
            "zerolinecolor": "white"
           },
           "yaxis": {
            "backgroundcolor": "#E5ECF6",
            "gridcolor": "white",
            "gridwidth": 2,
            "linecolor": "white",
            "showbackground": true,
            "ticks": "",
            "zerolinecolor": "white"
           },
           "zaxis": {
            "backgroundcolor": "#E5ECF6",
            "gridcolor": "white",
            "gridwidth": 2,
            "linecolor": "white",
            "showbackground": true,
            "ticks": "",
            "zerolinecolor": "white"
           }
          },
          "shapedefaults": {
           "line": {
            "color": "#2a3f5f"
           }
          },
          "ternary": {
           "aaxis": {
            "gridcolor": "white",
            "linecolor": "white",
            "ticks": ""
           },
           "baxis": {
            "gridcolor": "white",
            "linecolor": "white",
            "ticks": ""
           },
           "bgcolor": "#E5ECF6",
           "caxis": {
            "gridcolor": "white",
            "linecolor": "white",
            "ticks": ""
           }
          },
          "title": {
           "x": 0.05
          },
          "xaxis": {
           "automargin": true,
           "gridcolor": "white",
           "linecolor": "white",
           "ticks": "",
           "title": {
            "standoff": 15
           },
           "zerolinecolor": "white",
           "zerolinewidth": 2
          },
          "yaxis": {
           "automargin": true,
           "gridcolor": "white",
           "linecolor": "white",
           "ticks": "",
           "title": {
            "standoff": 15
           },
           "zerolinecolor": "white",
           "zerolinewidth": 2
          }
         }
        },
        "title": {
         "text": "Obesity among adults — 2022"
        }
       }
      }
     },
     "metadata": {},
     "output_type": "display_data"
    }
   ],
   "source": [
    "# 5a. Obesity choropleth (latest-year state average)\n",
    "d = obesity_name\n",
    "latest_year = df[df[\"Question\"]==d][\"YearStart\"].max()\n",
    "df_obs_latest = (\n",
    "    df[(df[\"Question\"]==d) & (df[\"YearStart\"]==latest_year)]\n",
    "    .groupby([\"LocationAbbr\",\"LocationDesc\"], as_index=False)[\"data_value_num\"]\n",
    "    .mean()\n",
    "    .rename(columns={\"data_value_num\":\"Obesity\"})\n",
    ")\n",
    "fig = px.choropleth(\n",
    "    df_obs_latest,\n",
    "    locations=\"LocationAbbr\",\n",
    "    locationmode=\"USA-states\",\n",
    "    color=\"Obesity\",\n",
    "    hover_name=\"LocationDesc\",\n",
    "    title=f\"Obesity among adults — {latest_year}\",\n",
    "    color_continuous_scale=\"Reds\",\n",
    "    scope=\"usa\"\n",
    ")\n",
    "fig.write_html(\"outputs/obesity_choropleth.html\")\n",
    "fig.show()\n"
   ]
  },
  {
   "cell_type": "code",
   "execution_count": 24,
   "id": "08a5b55f",
   "metadata": {},
   "outputs": [
    {
     "data": {
      "application/vnd.plotly.v1+json": {
       "config": {
        "plotlyServerURL": "https://plot.ly"
       },
       "data": [
        {
         "coloraxis": "coloraxis",
         "geo": "geo",
         "hovertemplate": "<b>%{hovertext}</b><br><br>LocationAbbr=%{location}<br>COPD=%{z}<extra></extra>",
         "hovertext": [
          "Alaska",
          "Alabama",
          "Arkansas",
          "Arizona",
          "California",
          "Colorado",
          "Connecticut",
          "District of Columbia",
          "Delaware",
          "Florida",
          "Georgia",
          "Guam",
          "Hawaii",
          "Iowa",
          "Idaho",
          "Illinois",
          "Indiana",
          "Kansas",
          "Kentucky",
          "Louisiana",
          "Massachusetts",
          "Maryland",
          "Maine",
          "Michigan",
          "Minnesota",
          "Missouri",
          "Mississippi",
          "Montana",
          "North Carolina",
          "North Dakota",
          "Nebraska",
          "New Hampshire",
          "New Jersey",
          "New Mexico",
          "Nevada",
          "New York",
          "Ohio",
          "Oklahoma",
          "Oregon",
          "Pennsylvania",
          "Puerto Rico",
          "Rhode Island",
          "South Carolina",
          "South Dakota",
          "Tennessee",
          "Texas",
          "United States",
          "Utah",
          "Virginia",
          "Virgin Islands",
          "Vermont",
          "Washington",
          "Wisconsin",
          "West Virginia",
          "Wyoming"
         ],
         "locationmode": "USA-states",
         "locations": [
          "AK",
          "AL",
          "AR",
          "AZ",
          "CA",
          "CO",
          "CT",
          "DC",
          "DE",
          "FL",
          "GA",
          "GU",
          "HI",
          "IA",
          "ID",
          "IL",
          "IN",
          "KS",
          "KY",
          "LA",
          "MA",
          "MD",
          "ME",
          "MI",
          "MN",
          "MO",
          "MS",
          "MT",
          "NC",
          "ND",
          "NE",
          "NH",
          "NJ",
          "NM",
          "NV",
          "NY",
          "OH",
          "OK",
          "OR",
          "PA",
          "PR",
          "RI",
          "SC",
          "SD",
          "TN",
          "TX",
          "US",
          "UT",
          "VA",
          "VI",
          "VT",
          "WA",
          "WI",
          "WV",
          "WY"
         ],
         "name": "",
         "type": "choropleth",
         "z": {
          "bdata": "9Shcj8L1GEC+4iu+4iskQGAs+cWSXyRA/MAP/MAPGkDqkz7pkz4UQCD4gR/4gRVAMJb8YskvFkDv7u7u7u4OQEZu5EZu5BxA5uTk5OTkHkDNzMzMzMweQGZmZmZm5hFAO1YgjLRjDUAlv1jyiyUhQEId1EEd1BxA0GkDnTbQF0BZgTDSjhUlQEEYaccKhCBAzMzMzMzMJkAGBgYGBgYhQERERERERBZAKioqKioqFEBSuB6F61EkQDMzMzMz4yNAmpmZmZk5FUAzMzMzM3MhQHqhF3qhFyVAuR6F61G4HED7pE/6pE8bQA/qoA7qoBVAexSuR+F6EkDwAz/wAz8WQJqZmZmZmRVA8AM/8AM/FkDEw8PDw8MZQB4eHh4eHhZAwcDAwMDAIkAbymsor6EeQPf29vb29hZAHtRBHdRBHkBwWPuGtW8UQHqhF3qhFxpAAAAAAACgIUB5SpCnBHkgQHE9CtejcCdAWFdXV1dXGUCnN73pTW8aQAy90Au90BFAC9ejcD0KH0DNzMzMzMzsPx/4gR/4gSJAAidwAidwFEB2dXV1dXUdQPRCL/RCLy9A2jesfcPaG0A=",
          "dtype": "f8"
         }
        }
       ],
       "layout": {
        "coloraxis": {
         "colorbar": {
          "title": {
           "text": "COPD"
          }
         },
         "colorscale": [
          [
           0,
           "rgb(255,245,240)"
          ],
          [
           0.125,
           "rgb(254,224,210)"
          ],
          [
           0.25,
           "rgb(252,187,161)"
          ],
          [
           0.375,
           "rgb(252,146,114)"
          ],
          [
           0.5,
           "rgb(251,106,74)"
          ],
          [
           0.625,
           "rgb(239,59,44)"
          ],
          [
           0.75,
           "rgb(203,24,29)"
          ],
          [
           0.875,
           "rgb(165,15,21)"
          ],
          [
           1,
           "rgb(103,0,13)"
          ]
         ]
        },
        "geo": {
         "center": {},
         "domain": {
          "x": [
           0,
           1
          ],
          "y": [
           0,
           1
          ]
         },
         "scope": "usa"
        },
        "legend": {
         "tracegroupgap": 0
        },
        "template": {
         "data": {
          "bar": [
           {
            "error_x": {
             "color": "#2a3f5f"
            },
            "error_y": {
             "color": "#2a3f5f"
            },
            "marker": {
             "line": {
              "color": "#E5ECF6",
              "width": 0.5
             },
             "pattern": {
              "fillmode": "overlay",
              "size": 10,
              "solidity": 0.2
             }
            },
            "type": "bar"
           }
          ],
          "barpolar": [
           {
            "marker": {
             "line": {
              "color": "#E5ECF6",
              "width": 0.5
             },
             "pattern": {
              "fillmode": "overlay",
              "size": 10,
              "solidity": 0.2
             }
            },
            "type": "barpolar"
           }
          ],
          "carpet": [
           {
            "aaxis": {
             "endlinecolor": "#2a3f5f",
             "gridcolor": "white",
             "linecolor": "white",
             "minorgridcolor": "white",
             "startlinecolor": "#2a3f5f"
            },
            "baxis": {
             "endlinecolor": "#2a3f5f",
             "gridcolor": "white",
             "linecolor": "white",
             "minorgridcolor": "white",
             "startlinecolor": "#2a3f5f"
            },
            "type": "carpet"
           }
          ],
          "choropleth": [
           {
            "colorbar": {
             "outlinewidth": 0,
             "ticks": ""
            },
            "type": "choropleth"
           }
          ],
          "contour": [
           {
            "colorbar": {
             "outlinewidth": 0,
             "ticks": ""
            },
            "colorscale": [
             [
              0,
              "#0d0887"
             ],
             [
              0.1111111111111111,
              "#46039f"
             ],
             [
              0.2222222222222222,
              "#7201a8"
             ],
             [
              0.3333333333333333,
              "#9c179e"
             ],
             [
              0.4444444444444444,
              "#bd3786"
             ],
             [
              0.5555555555555556,
              "#d8576b"
             ],
             [
              0.6666666666666666,
              "#ed7953"
             ],
             [
              0.7777777777777778,
              "#fb9f3a"
             ],
             [
              0.8888888888888888,
              "#fdca26"
             ],
             [
              1,
              "#f0f921"
             ]
            ],
            "type": "contour"
           }
          ],
          "contourcarpet": [
           {
            "colorbar": {
             "outlinewidth": 0,
             "ticks": ""
            },
            "type": "contourcarpet"
           }
          ],
          "heatmap": [
           {
            "colorbar": {
             "outlinewidth": 0,
             "ticks": ""
            },
            "colorscale": [
             [
              0,
              "#0d0887"
             ],
             [
              0.1111111111111111,
              "#46039f"
             ],
             [
              0.2222222222222222,
              "#7201a8"
             ],
             [
              0.3333333333333333,
              "#9c179e"
             ],
             [
              0.4444444444444444,
              "#bd3786"
             ],
             [
              0.5555555555555556,
              "#d8576b"
             ],
             [
              0.6666666666666666,
              "#ed7953"
             ],
             [
              0.7777777777777778,
              "#fb9f3a"
             ],
             [
              0.8888888888888888,
              "#fdca26"
             ],
             [
              1,
              "#f0f921"
             ]
            ],
            "type": "heatmap"
           }
          ],
          "histogram": [
           {
            "marker": {
             "pattern": {
              "fillmode": "overlay",
              "size": 10,
              "solidity": 0.2
             }
            },
            "type": "histogram"
           }
          ],
          "histogram2d": [
           {
            "colorbar": {
             "outlinewidth": 0,
             "ticks": ""
            },
            "colorscale": [
             [
              0,
              "#0d0887"
             ],
             [
              0.1111111111111111,
              "#46039f"
             ],
             [
              0.2222222222222222,
              "#7201a8"
             ],
             [
              0.3333333333333333,
              "#9c179e"
             ],
             [
              0.4444444444444444,
              "#bd3786"
             ],
             [
              0.5555555555555556,
              "#d8576b"
             ],
             [
              0.6666666666666666,
              "#ed7953"
             ],
             [
              0.7777777777777778,
              "#fb9f3a"
             ],
             [
              0.8888888888888888,
              "#fdca26"
             ],
             [
              1,
              "#f0f921"
             ]
            ],
            "type": "histogram2d"
           }
          ],
          "histogram2dcontour": [
           {
            "colorbar": {
             "outlinewidth": 0,
             "ticks": ""
            },
            "colorscale": [
             [
              0,
              "#0d0887"
             ],
             [
              0.1111111111111111,
              "#46039f"
             ],
             [
              0.2222222222222222,
              "#7201a8"
             ],
             [
              0.3333333333333333,
              "#9c179e"
             ],
             [
              0.4444444444444444,
              "#bd3786"
             ],
             [
              0.5555555555555556,
              "#d8576b"
             ],
             [
              0.6666666666666666,
              "#ed7953"
             ],
             [
              0.7777777777777778,
              "#fb9f3a"
             ],
             [
              0.8888888888888888,
              "#fdca26"
             ],
             [
              1,
              "#f0f921"
             ]
            ],
            "type": "histogram2dcontour"
           }
          ],
          "mesh3d": [
           {
            "colorbar": {
             "outlinewidth": 0,
             "ticks": ""
            },
            "type": "mesh3d"
           }
          ],
          "parcoords": [
           {
            "line": {
             "colorbar": {
              "outlinewidth": 0,
              "ticks": ""
             }
            },
            "type": "parcoords"
           }
          ],
          "pie": [
           {
            "automargin": true,
            "type": "pie"
           }
          ],
          "scatter": [
           {
            "fillpattern": {
             "fillmode": "overlay",
             "size": 10,
             "solidity": 0.2
            },
            "type": "scatter"
           }
          ],
          "scatter3d": [
           {
            "line": {
             "colorbar": {
              "outlinewidth": 0,
              "ticks": ""
             }
            },
            "marker": {
             "colorbar": {
              "outlinewidth": 0,
              "ticks": ""
             }
            },
            "type": "scatter3d"
           }
          ],
          "scattercarpet": [
           {
            "marker": {
             "colorbar": {
              "outlinewidth": 0,
              "ticks": ""
             }
            },
            "type": "scattercarpet"
           }
          ],
          "scattergeo": [
           {
            "marker": {
             "colorbar": {
              "outlinewidth": 0,
              "ticks": ""
             }
            },
            "type": "scattergeo"
           }
          ],
          "scattergl": [
           {
            "marker": {
             "colorbar": {
              "outlinewidth": 0,
              "ticks": ""
             }
            },
            "type": "scattergl"
           }
          ],
          "scattermap": [
           {
            "marker": {
             "colorbar": {
              "outlinewidth": 0,
              "ticks": ""
             }
            },
            "type": "scattermap"
           }
          ],
          "scattermapbox": [
           {
            "marker": {
             "colorbar": {
              "outlinewidth": 0,
              "ticks": ""
             }
            },
            "type": "scattermapbox"
           }
          ],
          "scatterpolar": [
           {
            "marker": {
             "colorbar": {
              "outlinewidth": 0,
              "ticks": ""
             }
            },
            "type": "scatterpolar"
           }
          ],
          "scatterpolargl": [
           {
            "marker": {
             "colorbar": {
              "outlinewidth": 0,
              "ticks": ""
             }
            },
            "type": "scatterpolargl"
           }
          ],
          "scatterternary": [
           {
            "marker": {
             "colorbar": {
              "outlinewidth": 0,
              "ticks": ""
             }
            },
            "type": "scatterternary"
           }
          ],
          "surface": [
           {
            "colorbar": {
             "outlinewidth": 0,
             "ticks": ""
            },
            "colorscale": [
             [
              0,
              "#0d0887"
             ],
             [
              0.1111111111111111,
              "#46039f"
             ],
             [
              0.2222222222222222,
              "#7201a8"
             ],
             [
              0.3333333333333333,
              "#9c179e"
             ],
             [
              0.4444444444444444,
              "#bd3786"
             ],
             [
              0.5555555555555556,
              "#d8576b"
             ],
             [
              0.6666666666666666,
              "#ed7953"
             ],
             [
              0.7777777777777778,
              "#fb9f3a"
             ],
             [
              0.8888888888888888,
              "#fdca26"
             ],
             [
              1,
              "#f0f921"
             ]
            ],
            "type": "surface"
           }
          ],
          "table": [
           {
            "cells": {
             "fill": {
              "color": "#EBF0F8"
             },
             "line": {
              "color": "white"
             }
            },
            "header": {
             "fill": {
              "color": "#C8D4E3"
             },
             "line": {
              "color": "white"
             }
            },
            "type": "table"
           }
          ]
         },
         "layout": {
          "annotationdefaults": {
           "arrowcolor": "#2a3f5f",
           "arrowhead": 0,
           "arrowwidth": 1
          },
          "autotypenumbers": "strict",
          "coloraxis": {
           "colorbar": {
            "outlinewidth": 0,
            "ticks": ""
           }
          },
          "colorscale": {
           "diverging": [
            [
             0,
             "#8e0152"
            ],
            [
             0.1,
             "#c51b7d"
            ],
            [
             0.2,
             "#de77ae"
            ],
            [
             0.3,
             "#f1b6da"
            ],
            [
             0.4,
             "#fde0ef"
            ],
            [
             0.5,
             "#f7f7f7"
            ],
            [
             0.6,
             "#e6f5d0"
            ],
            [
             0.7,
             "#b8e186"
            ],
            [
             0.8,
             "#7fbc41"
            ],
            [
             0.9,
             "#4d9221"
            ],
            [
             1,
             "#276419"
            ]
           ],
           "sequential": [
            [
             0,
             "#0d0887"
            ],
            [
             0.1111111111111111,
             "#46039f"
            ],
            [
             0.2222222222222222,
             "#7201a8"
            ],
            [
             0.3333333333333333,
             "#9c179e"
            ],
            [
             0.4444444444444444,
             "#bd3786"
            ],
            [
             0.5555555555555556,
             "#d8576b"
            ],
            [
             0.6666666666666666,
             "#ed7953"
            ],
            [
             0.7777777777777778,
             "#fb9f3a"
            ],
            [
             0.8888888888888888,
             "#fdca26"
            ],
            [
             1,
             "#f0f921"
            ]
           ],
           "sequentialminus": [
            [
             0,
             "#0d0887"
            ],
            [
             0.1111111111111111,
             "#46039f"
            ],
            [
             0.2222222222222222,
             "#7201a8"
            ],
            [
             0.3333333333333333,
             "#9c179e"
            ],
            [
             0.4444444444444444,
             "#bd3786"
            ],
            [
             0.5555555555555556,
             "#d8576b"
            ],
            [
             0.6666666666666666,
             "#ed7953"
            ],
            [
             0.7777777777777778,
             "#fb9f3a"
            ],
            [
             0.8888888888888888,
             "#fdca26"
            ],
            [
             1,
             "#f0f921"
            ]
           ]
          },
          "colorway": [
           "#636efa",
           "#EF553B",
           "#00cc96",
           "#ab63fa",
           "#FFA15A",
           "#19d3f3",
           "#FF6692",
           "#B6E880",
           "#FF97FF",
           "#FECB52"
          ],
          "font": {
           "color": "#2a3f5f"
          },
          "geo": {
           "bgcolor": "white",
           "lakecolor": "white",
           "landcolor": "#E5ECF6",
           "showlakes": true,
           "showland": true,
           "subunitcolor": "white"
          },
          "hoverlabel": {
           "align": "left"
          },
          "hovermode": "closest",
          "mapbox": {
           "style": "light"
          },
          "paper_bgcolor": "white",
          "plot_bgcolor": "#E5ECF6",
          "polar": {
           "angularaxis": {
            "gridcolor": "white",
            "linecolor": "white",
            "ticks": ""
           },
           "bgcolor": "#E5ECF6",
           "radialaxis": {
            "gridcolor": "white",
            "linecolor": "white",
            "ticks": ""
           }
          },
          "scene": {
           "xaxis": {
            "backgroundcolor": "#E5ECF6",
            "gridcolor": "white",
            "gridwidth": 2,
            "linecolor": "white",
            "showbackground": true,
            "ticks": "",
            "zerolinecolor": "white"
           },
           "yaxis": {
            "backgroundcolor": "#E5ECF6",
            "gridcolor": "white",
            "gridwidth": 2,
            "linecolor": "white",
            "showbackground": true,
            "ticks": "",
            "zerolinecolor": "white"
           },
           "zaxis": {
            "backgroundcolor": "#E5ECF6",
            "gridcolor": "white",
            "gridwidth": 2,
            "linecolor": "white",
            "showbackground": true,
            "ticks": "",
            "zerolinecolor": "white"
           }
          },
          "shapedefaults": {
           "line": {
            "color": "#2a3f5f"
           }
          },
          "ternary": {
           "aaxis": {
            "gridcolor": "white",
            "linecolor": "white",
            "ticks": ""
           },
           "baxis": {
            "gridcolor": "white",
            "linecolor": "white",
            "ticks": ""
           },
           "bgcolor": "#E5ECF6",
           "caxis": {
            "gridcolor": "white",
            "linecolor": "white",
            "ticks": ""
           }
          },
          "title": {
           "x": 0.05
          },
          "xaxis": {
           "automargin": true,
           "gridcolor": "white",
           "linecolor": "white",
           "ticks": "",
           "title": {
            "standoff": 15
           },
           "zerolinecolor": "white",
           "zerolinewidth": 2
          },
          "yaxis": {
           "automargin": true,
           "gridcolor": "white",
           "linecolor": "white",
           "ticks": "",
           "title": {
            "standoff": 15
           },
           "zerolinecolor": "white",
           "zerolinewidth": 2
          }
         }
        },
        "title": {
         "text": "COPD among adults — 2022"
        }
       }
      }
     },
     "metadata": {},
     "output_type": "display_data"
    }
   ],
   "source": [
    "# 5b. COPD choropleth (latest-year state average)\n",
    "d = copd_name\n",
    "latest_year_copd = df[df[\"Question\"]==d][\"YearStart\"].max()\n",
    "df_copd_latest = (\n",
    "    df[(df[\"Question\"]==d) & (df[\"YearStart\"]==latest_year_copd)]\n",
    "    .groupby([\"LocationAbbr\",\"LocationDesc\"], as_index=False)[\"data_value_num\"]\n",
    "    .mean()\n",
    "    .rename(columns={\"data_value_num\":\"COPD\"})\n",
    ")\n",
    "fig = px.choropleth(\n",
    "    df_copd_latest,\n",
    "    locations=\"LocationAbbr\",\n",
    "    locationmode=\"USA-states\",\n",
    "    color=\"COPD\",\n",
    "    hover_name=\"LocationDesc\",\n",
    "    title=f\"COPD among adults — {latest_year_copd}\",\n",
    "    color_continuous_scale=\"Reds\",\n",
    "    scope=\"usa\"\n",
    ")\n",
    "fig.write_html(\"outputs/copd_choropleth.html\")\n",
    "fig.show()\n"
   ]
  },
  {
   "cell_type": "markdown",
   "id": "e990c142",
   "metadata": {},
   "source": []
  },
  {
   "cell_type": "code",
   "execution_count": 25,
   "id": "9fd3ce5e",
   "metadata": {},
   "outputs": [
    {
     "name": "stderr",
     "output_type": "stream",
     "text": [
      "C:\\Users\\hp\\AppData\\Local\\Temp\\ipykernel_13024\\3903519639.py:13: UserWarning:\n",
      "\n",
      "Tight layout not applied. The left and right margins cannot be made large enough to accommodate all Axes decorations.\n",
      "\n"
     ]
    },
    {
     "data": {
      "image/png": "[encoded data removed]",
      "text/plain": [
       "<Figure size 800x600 with 2 Axes>"
      ]
     },
     "metadata": {},
     "output_type": "display_data"
    }
   ],
   "source": [
    "# 6. State-level pivot and correlation for a few related indicators\n",
    "# Build pivot with mean prevalence per state across available questions\n",
    "pivot = df.pivot_table(index=\"LocationAbbr\", columns=\"Question\", values=\"data_value_num\", aggfunc=\"mean\")\n",
    "\n",
    "# pick columns related to smoking, physical inactivity if available, plus COPD & Obesity\n",
    "candidates = [c for c in pivot.columns if (\"smoking\" in c.lower() or \"physical inactivity\" in c.lower())]\n",
    "selected_cols = [col for col in [copd_name, obesity_name] + candidates if col in pivot.columns]\n",
    "corr = pivot[selected_cols].corr()\n",
    "\n",
    "plt.figure(figsize=(8,6))\n",
    "sns.heatmap(corr, annot=True, cmap=\"coolwarm\", vmin=-1, vmax=1)\n",
    "plt.title(\"Correlation: COPD, Obesity and related risk factors (state averages)\")\n",
    "plt.tight_layout()\n",
    "plt.savefig(\"outputs/correlation_heatmap.png\")\n",
    "plt.show()\n"
   ]
  },
  {
   "cell_type": "code",
   "execution_count": 26,
   "id": "430c3f4b",
   "metadata": {},
   "outputs": [
    {
     "name": "stdout",
     "output_type": "stream",
     "text": [
      "COPD rows: 3141 Obesity rows: 3973\n"
     ]
    }
   ],
   "source": [
    "# 7. Function: prepare data for one indicator (binary target by median)\n",
    "def prepare_for_model(df, indicator, features=None):\n",
    "    df_i = df[df[\"Question\"] == indicator].copy()\n",
    "    median = df_i[\"data_value_num\"].median(skipna=True)\n",
    "    df_i[\"high_prevalence\"] = (df_i[\"data_value_num\"] >= median).astype(int)\n",
    "\n",
    "    if features is None:\n",
    "        features = [\"YearStart\",\"LocationAbbr\",\"LocationDesc\",\"Stratification1\",\"StratificationCategory1\",\n",
    "                    \"LowConfidenceLimit\",\"HighConfidenceLimit\"]\n",
    "    features = [f for f in features if f in df_i.columns]\n",
    "    X = df_i[features].copy()\n",
    "    y = df_i[\"high_prevalence\"].copy()\n",
    "\n",
    "    # drop rows where all features are missing\n",
    "    mask = ~X.isna().all(axis=1)\n",
    "    return X[mask], y[mask], median\n",
    "\n",
    "# Example usage:\n",
    "X_copd, y_copd, med_copd = prepare_for_model(df, copd_name)\n",
    "X_obesity, y_obesity, med_obesity = prepare_for_model(df, obesity_name)\n",
    "print(\"COPD rows:\", X_copd.shape[0], \"Obesity rows:\", X_obesity.shape[0])\n"
   ]
  },
  {
   "cell_type": "markdown",
   "id": "b327abb4",
   "metadata": {},
   "source": [
    "### Step 8: Build Models\n",
    "We train separate **Random Forest classifiers** for COPD and Obesity.  \n",
    "Caveat: since location (state) is included, the model may \"memorize states,\"  \n",
    "so results must be interpreted with caution.  \n"
   ]
  },
  {
   "cell_type": "code",
   "execution_count": 31,
   "id": "b31ef331",
   "metadata": {},
   "outputs": [
    {
     "name": "stdout",
     "output_type": "stream",
     "text": [
      "Accuracy: 0.9888712241653418 ROC AUC: 0.9994692144373674\n",
      "              precision    recall  f1-score   support\n",
      "\n",
      "           0       0.99      0.99      0.99       314\n",
      "           1       0.99      0.99      0.99       315\n",
      "\n",
      "    accuracy                           0.99       629\n",
      "   macro avg       0.99      0.99      0.99       629\n",
      "weighted avg       0.99      0.99      0.99       629\n",
      "\n"
     ]
    },
    {
     "data": {
      "text/plain": [
       "['outputs/rf_copd.joblib']"
      ]
     },
     "execution_count": 31,
     "metadata": {},
     "output_type": "execute_result"
    },
    {
     "data": {
      "image/png": "[encoded data removed]",
      "text/plain": [
       "<Figure size 500x400 with 2 Axes>"
      ]
     },
     "metadata": {},
     "output_type": "display_data"
    }
   ],
   "source": [
    "# 8. Function to train and evaluate a Random Forest pipeline\n",
    "def train_rf_pipeline(X, y, random_state=42):\n",
    "    # split\n",
    "    X_train, X_test, y_train, y_test = train_test_split(X, y, stratify=y, test_size=0.2, random_state=random_state)\n",
    "\n",
    "    # identify numeric vs categorical\n",
    "    numeric_feats = X_train.select_dtypes(include=[np.number]).columns.tolist()\n",
    "    categorical_feats = [c for c in X_train.columns if c not in numeric_feats]\n",
    "\n",
    "    # simple preprocessors\n",
    "    num_pipe = Pipeline([(\"imputer\", SimpleImputer(strategy=\"median\"))])\n",
    "    cat_pipe = Pipeline([(\"imputer\", SimpleImputer(strategy=\"constant\", fill_value=\"missing\")),\n",
    "                         (\"onehot\", OneHotEncoder(handle_unknown=\"ignore\", sparse_output=False))])\n",
    "\n",
    "    preproc = ColumnTransformer([(\"num\", num_pipe, numeric_feats),\n",
    "                                 (\"cat\", cat_pipe, categorical_feats)])\n",
    "\n",
    "    pipe = Pipeline([(\"preproc\", preproc),\n",
    "                     (\"rf\", RandomForestClassifier(n_estimators=150, random_state=random_state, n_jobs=-1))])\n",
    "\n",
    "    # fit\n",
    "    pipe.fit(X_train, y_train)\n",
    "\n",
    "    # predict & metrics\n",
    "    y_pred = pipe.predict(X_test)\n",
    "    y_proba = pipe.predict_proba(X_test)[:,1]\n",
    "    acc = accuracy_score(y_test, y_pred)\n",
    "    roc = roc_auc_score(y_test, y_proba)\n",
    "    print(\"Accuracy:\", acc, \"ROC AUC:\", roc)\n",
    "    print(classification_report(y_test, y_pred))\n",
    "\n",
    "    # confusion matrix plot\n",
    "    cm = confusion_matrix(y_test, y_pred)\n",
    "    plt.figure(figsize=(5,4))\n",
    "    sns.heatmap(cm, annot=True, fmt=\"d\", cmap=\"Blues\")\n",
    "    plt.title(\"Confusion Matrix\")\n",
    "    plt.xlabel(\"Pred\")\n",
    "    plt.ylabel(\"True\")\n",
    "    plt.tight_layout()\n",
    "\n",
    "    return pipe, (X_test, y_test, y_pred, y_proba)\n",
    "\n",
    "# Example run:\n",
    "rf_copd, copd_test_tuple = train_rf_pipeline(X_copd, y_copd)\n",
    "dump(rf_copd, \"outputs/rf_copd.joblib\")\n",
    "\n"
   ]
  },
  {
   "cell_type": "markdown",
   "id": "d7f4a03e",
   "metadata": {},
   "source": [
    "### Step 9: Feature Importance\n",
    "We examine which features contribute most to predicting prevalence.  \n",
    "This highlights **risk factors** and helps explain the model.  \n"
   ]
  },
  {
   "cell_type": "code",
   "execution_count": 32,
   "id": "8ffff5f0",
   "metadata": {},
   "outputs": [
    {
     "name": "stdout",
     "output_type": "stream",
     "text": [
      "Top features (COPD):\n",
      "                                       feature  importance\n",
      "1                           LowConfidenceLimit    0.401860\n",
      "2                          HighConfidenceLimit    0.341024\n",
      "115                   Stratification1_Age >=65    0.022110\n",
      "117        Stratification1_Asian, non-Hispanic    0.019803\n",
      "113                  Stratification1_Age 18-44    0.017893\n",
      "121                   Stratification1_Hispanic    0.015490\n",
      "123  Stratification1_Multiracial, non-Hispanic    0.010919\n",
      "0                                    YearStart    0.010223\n",
      "118        Stratification1_Black, non-Hispanic    0.007204\n",
      "122                       Stratification1_Male    0.006338\n"
     ]
    }
   ],
   "source": [
    "# 9. Map feature importances back to feature names\n",
    "def get_feature_importances(pipe):\n",
    "    # get numeric feature names\n",
    "    numeric_feats = pipe.named_steps[\"preproc\"].transformers_[0][2]\n",
    "    # get ohe names\n",
    "    ohe = pipe.named_steps[\"preproc\"].transformers_[1][1].named_steps[\"onehot\"]\n",
    "    cat_feats = pipe.named_steps[\"preproc\"].transformers_[1][2]\n",
    "    if hasattr(ohe, \"get_feature_names_out\"):\n",
    "        ohe_names = list(ohe.get_feature_names_out(cat_feats))\n",
    "    else:\n",
    "        ohe_names = []\n",
    "        for i, cats in enumerate(ohe.categories_):\n",
    "            ohe_names += [f\"{cat_feats[i]}_{v}\" for v in cats]\n",
    "\n",
    "    feature_names = list(numeric_feats) + ohe_names\n",
    "    importances = pipe.named_steps[\"rf\"].feature_importances_\n",
    "    imp_df = pd.DataFrame({\"feature\": feature_names, \"importance\": importances}).sort_values(\"importance\", ascending=False)\n",
    "    return imp_df\n",
    "\n",
    "imp_copd = get_feature_importances(rf_copd)\n",
    "imp_copd.head(20).to_csv(\"outputs/copd_feature_importances.csv\", index=False)\n",
    "print(\"Top features (COPD):\")\n",
    "print(imp_copd.head(10))\n"
   ]
  },
  {
   "cell_type": "code",
   "execution_count": null,
   "id": "406eab73",
   "metadata": {},
   "outputs": [
    {
     "name": "stderr",
     "output_type": "stream",
     "text": [
      "c:\\Users\\hp\\AppData\\Local\\Programs\\Python\\Python313\\Lib\\site-packages\\tqdm\\auto.py:21: TqdmWarning:\n",
      "\n",
      "IProgress not found. Please update jupyter and ipywidgets. See https://ipywidgets.readthedocs.io/en/stable/user_install.html\n",
      "\n",
      " 99%|===================| 1248/1258 [00:28<00:00]        "
     ]
    },
    {
     "name": "stdout",
     "output_type": "stream",
     "text": [
      "SHAP not available or failed; falling back to RF importances. Error: Additivity check failed in TreeExplainer! Please ensure the data matrix you passed to the explainer is the same shape that the model was trained on. If your data shape is correct then please report this on GitHub. This check failed because for one of the samples the sum of the SHAP values was 0.366867, while the model output was 0.240000. If this difference is acceptable you can set check_additivity=False to disable this check.\n"
     ]
    }
   ],
   "source": [
    "try:\n",
    "    import shap\n",
    "    explainer = shap.Explainer(rf_copd.named_steps[\"rf\"], rf_copd.named_steps[\"preproc\"].transform(copd_test_tuple[0]))\n",
    "    shap_vals = explainer(rf_copd.named_steps[\"preproc\"].transform(copd_test_tuple[0]))\n",
    "    shap.summary_plot(shap_vals, rf_copd.named_steps[\"preproc\"].transform(copd_test_tuple[0]))\n",
    "except Exception as e:\n",
    "    print(\"SHAP not available or failed; falling back to RF importances. Error:\", e)\n"
   ]
  },
  {
   "cell_type": "code",
   "execution_count": 34,
   "id": "13e05101",
   "metadata": {},
   "outputs": [
    {
     "data": {
      "image/png": "[encoded data removed]",
      "text/plain": [
       "<Figure size 800x600 with 1 Axes>"
      ]
     },
     "metadata": {},
     "output_type": "display_data"
    },
    {
     "name": "stdout",
     "output_type": "stream",
     "text": [
      "Top double-burden states:\n",
      "   LocationAbbr    Obesity       COPD\n",
      "37           OK  42.752632   7.657895\n",
      "19           LA  41.242105   8.511765\n",
      "53           WV  41.082353  15.592308\n",
      "26           MS  40.600000  10.546154\n",
      "43           SD  39.763158   8.236364\n",
      "18           KY  39.000000  11.400000\n",
      "13           IA  38.776471   8.573333\n",
      "52           WI  38.719048   7.364706\n",
      "44           TN  38.711765  11.720000\n",
      "1            AL  38.394737  10.085714\n",
      "16           IN  38.005882  10.542105\n",
      "25           MO  37.863158   8.725000\n",
      "2            AR  37.842105  10.186667\n",
      "8            DE  37.772222   7.223077\n",
      "22           ME  37.089474  10.160000\n",
      "54           WY  36.733333   6.963636\n",
      "36           OH  36.123810   9.376471\n",
      "42           SC  35.826316   8.812500\n",
      "14           ID  35.582353   7.207143\n",
      "17           KS  35.520000   8.257895\n",
      "10           GA  35.252632   7.700000\n"
     ]
    }
   ],
   "source": [
    "# 11. Double burden scatter (latest year for both)\n",
    "# merge previously created df_obs_latest and df_copd_latest\n",
    "merged = pd.merge(df_obs_latest, df_copd_latest, on=[\"LocationAbbr\",\"LocationDesc\"], how=\"inner\")\n",
    "merged = merged.dropna(subset=[\"Obesity\",\"COPD\"])\n",
    "merged[\"HighBurden\"] = (merged[\"Obesity\"] > merged[\"Obesity\"].median()) & (merged[\"COPD\"] > merged[\"COPD\"].median())\n",
    "\n",
    "plt.figure(figsize=(8,6))\n",
    "sns.scatterplot(data=merged, x=\"Obesity\", y=\"COPD\", hue=\"HighBurden\", s=100)\n",
    "for i, row in merged.iterrows():\n",
    "    plt.text(row[\"Obesity\"]+0.1, row[\"COPD\"]+0.1, row[\"LocationAbbr\"], fontsize=8)\n",
    "plt.title(\"State-level Obesity vs COPD (latest year)\")\n",
    "plt.xlabel(\"Obesity prevalence (%)\")\n",
    "plt.ylabel(\"COPD prevalence (%)\")\n",
    "plt.tight_layout()\n",
    "plt.savefig(\"outputs/double_burden_scatter.png\")\n",
    "plt.show()\n",
    "\n",
    "print(\"Top double-burden states:\")\n",
    "print(merged[merged[\"HighBurden\"]].sort_values([\"Obesity\",\"COPD\"], ascending=False)[[\"LocationAbbr\",\"Obesity\",\"COPD\"]])\n"
   ]
  },
  {
   "cell_type": "markdown",
   "id": "755f5482",
   "metadata": {},
   "source": [
    "### Step 8: Recommendations\n",
    "\n",
    "**Policy Level**  \n",
    "- COPD: Expand smoking cessation programs, regulate air quality, improve access to lung screenings.  \n",
    "- Obesity: Support healthier school meals, encourage physical activity through urban design, implement nutrition awareness campaigns.  \n",
    "\n",
    "**Individual Level**  \n",
    "-  Avoid smoking/secondhand smoke to lower COPD risk.  \n",
    "-  Eat more fruits/vegetables, reduce sugary drinks to prevent obesity.  \n",
    "-  Walk 30 minutes daily → improves both lung and metabolic health.  \n",
    "\n",
    "By combining geographic insights, machine learning, and prevention strategies,  \n",
    "we bridge data science with actionable public health impact.  \n"
   ]
  },
  {
   "cell_type": "markdown",
   "id": "3f045dc3",
   "metadata": {},
   "source": []
  }
 ],
 "metadata": {
  "kernelspec": {
   "display_name": "Python 3",
   "language": "python",
   "name": "python3"
  },
  "language_info": {
   "codemirror_mode": {
    "name": "ipython",
    "version": 3
   },
   "file_extension": ".py",
   "mimetype": "text/x-python",
   "name": "python",
   "nbconvert_exporter": "python",
   "pygments_lexer": "ipython3",
   "version": "3.13.7"
  }
 },
 "nbformat": 4,
 "nbformat_minor": 5
}
